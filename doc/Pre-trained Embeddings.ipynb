{
 "cells": [
  {
   "cell_type": "code",
   "execution_count": 21,
   "metadata": {},
   "outputs": [],
   "source": [
    "import pandas as pd\n",
    "import numpy as np\n",
    "import matplotlib.pyplot as plt\n",
    "%matplotlib inline\n",
    "from keras.preprocessing.text import Tokenizer\n",
    "from keras.preprocessing.sequence import pad_sequences\n",
    "from keras.layers import Dense, Input, LSTM, Embedding, Dropout, Activation\n",
    "from keras.layers import Bidirectional, GlobalMaxPool1D\n",
    "from keras.models import Model\n",
    "import gensim.models.keyedvectors as word2vec\n",
    "import gc\n",
    "import warnings\n",
    "\n",
    "from tqdm import tqdm\n",
    "tqdm.pandas()\n",
    "warnings.filterwarnings(\"ignore\")"
   ]
  },
  {
   "cell_type": "code",
   "execution_count": 2,
   "metadata": {},
   "outputs": [
    {
     "name": "stdout",
     "output_type": "stream",
     "text": [
      "(159571, 8)\n",
      "(153164, 2)\n"
     ]
    }
   ],
   "source": [
    "train = pd.read_csv(\"data/train.csv\")\n",
    "test = pd.read_csv(\"data/test.csv\")\n",
    "print(train.shape)\n",
    "print(test.shape)"
   ]
  },
  {
   "cell_type": "code",
   "execution_count": 3,
   "metadata": {},
   "outputs": [],
   "source": [
    "list_classes = [\"toxic\", \"severe_toxic\", \"obscene\", \"threat\", \"insult\", \"identity_hate\"]\n",
    "y = train[list_classes].values\n",
    "list_sentences_train = train[\"comment_text\"]\n",
    "list_sentences_test = test[\"comment_text\"]"
   ]
  },
  {
   "cell_type": "code",
   "execution_count": 4,
   "metadata": {},
   "outputs": [],
   "source": [
    "max_features = 20000\n",
    "tokenizer = Tokenizer(num_words=max_features)\n",
    "tokenizer.fit_on_texts(list(list_sentences_train))\n",
    "list_tokenized_train = tokenizer.texts_to_sequences(list_sentences_train)\n",
    "list_tokenized_test = tokenizer.texts_to_sequences(list_sentences_test)"
   ]
  },
  {
   "cell_type": "code",
   "execution_count": 5,
   "metadata": {},
   "outputs": [
    {
     "data": {
      "text/plain": [
       "'There are 210337 words in the dictionary'"
      ]
     },
     "execution_count": 5,
     "metadata": {},
     "output_type": "execute_result"
    }
   ],
   "source": [
    "\"There are %d words in the dictionary\" %len(tokenizer.word_counts)"
   ]
  },
  {
   "cell_type": "code",
   "execution_count": 6,
   "metadata": {},
   "outputs": [],
   "source": [
    "maxlen = 200\n",
    "X_t = pad_sequences(list_tokenized_train, maxlen=maxlen)\n",
    "X_te = pad_sequences(list_tokenized_test, maxlen=maxlen)"
   ]
  },
  {
   "cell_type": "markdown",
   "metadata": {},
   "source": [
    "# Word Embeddings\n",
    "# 1. GloVe"
   ]
  },
  {
   "cell_type": "code",
   "execution_count": 17,
   "metadata": {},
   "outputs": [
    {
     "name": "stdout",
     "output_type": "stream",
     "text": [
      "Loaded 1193514 word vectors.\n"
     ]
    },
    {
     "data": {
      "text/plain": [
       "0"
      ]
     },
     "execution_count": 17,
     "metadata": {},
     "output_type": "execute_result"
    }
   ],
   "source": [
    "EMBEDDING_FILE='glove/glove.twitter.27B.25d.txt'\n",
    "embed_size = 25\n",
    "embeddings_index = dict()\n",
    "\n",
    "f = open(EMBEDDING_FILE)\n",
    "for line in f:\n",
    "    values = line.split()\n",
    "    word = values[0]\n",
    "    coefs = np.asarray(values[1:], dtype='float32')\n",
    "    embeddings_index[word] = coefs\n",
    "f.close()\n",
    "print('Loaded %s word vectors.' % len(embeddings_index))\n",
    "\n",
    "gc.collect()"
   ]
  },
  {
   "cell_type": "code",
   "execution_count": 18,
   "metadata": {},
   "outputs": [
    {
     "name": "stdout",
     "output_type": "stream",
     "text": [
      "total embedded: 81610 common words\n"
     ]
    },
    {
     "data": {
      "text/plain": [
       "0"
      ]
     },
     "execution_count": 18,
     "metadata": {},
     "output_type": "execute_result"
    }
   ],
   "source": [
    "del embeddings_index['0.065581']\n",
    "all_embs = np.stack(list(embeddings_index.values()))\n",
    "emb_mean,emb_std = all_embs.mean(), all_embs.std()\n",
    "\n",
    "nb_words = len(tokenizer.word_index)\n",
    "\n",
    "glove25 = np.random.normal(emb_mean, emb_std, (nb_words, embed_size))\n",
    "gc.collect()\n",
    "\n",
    "\n",
    "embeddedCount = 0\n",
    "for word, i in tokenizer.word_index.items():\n",
    "    i-=1\n",
    "\n",
    "    embedding_vector = embeddings_index.get(word)\n",
    "\n",
    "    if embedding_vector is not None: \n",
    "        glove25[i] = embedding_vector\n",
    "        embeddedCount+=1\n",
    "print('total embedded:',embeddedCount,'common words')\n",
    "\n",
    "del(embeddings_index)\n",
    "gc.collect()"
   ]
  },
  {
   "cell_type": "code",
   "execution_count": 19,
   "metadata": {},
   "outputs": [
    {
     "data": {
      "text/plain": [
       "array([[-0.010167  ,  0.020194  ,  0.21472999, ...,  0.18783   ,\n",
       "        -0.84249997, -0.31208   ],\n",
       "       [ 0.28228   ,  0.019558  ,  0.11509   , ...,  0.21430001,\n",
       "         0.25422001, -0.26673999],\n",
       "       [ 0.32543001, -0.089637  , -0.14733   , ..., -0.61750001,\n",
       "        -0.54592001, -0.069893  ],\n",
       "       ...,\n",
       "       [-0.00684513, -0.84489406, -0.12150688, ..., -0.20902332,\n",
       "         1.57896398,  1.04860937],\n",
       "       [-0.045856  ,  0.53393   , -0.37573001, ..., -0.35626999,\n",
       "        -1.45319998, -0.26989999],\n",
       "       [ 0.45367   ,  1.06959999, -1.19630003, ..., -0.040364  ,\n",
       "        -0.51828003, -0.24542999]])"
      ]
     },
     "execution_count": 19,
     "metadata": {},
     "output_type": "execute_result"
    }
   ],
   "source": [
    "glove25"
   ]
  },
  {
   "cell_type": "markdown",
   "metadata": {},
   "source": [
    "# 2. Word2Vec"
   ]
  },
  {
   "cell_type": "markdown",
   "metadata": {},
   "source": [
    "We use Google News Negative 300 pre-trained word2vec embedding.\n",
    "\n",
    "The pre-trained embedding file is too large and cannot be uploaded to Github. It can be downloaded here: https://drive.google.com/file/d/0B7XkCwpI5KDYNlNUTTlSS21pQmM/edit"
   ]
  },
  {
   "cell_type": "code",
   "execution_count": 25,
   "metadata": {},
   "outputs": [],
   "source": [
    "word2vecDict = word2vec.KeyedVectors.load_word2vec_format(\"GoogleNews-vectors-negative300.bin\", binary=True)\n",
    "embed_size = 300"
   ]
  },
  {
   "cell_type": "code",
   "execution_count": 26,
   "metadata": {},
   "outputs": [
    {
     "name": "stdout",
     "output_type": "stream",
     "text": [
      "Loaded 3000000 word vectors from pretrained word2vec embeddings.\n",
      "total embedded: 66078 common words\n"
     ]
    },
    {
     "data": {
      "text/plain": [
       "0"
      ]
     },
     "execution_count": 26,
     "metadata": {},
     "output_type": "execute_result"
    }
   ],
   "source": [
    "embeddings_index = dict()\n",
    "for word in word2vecDict.wv.vocab:\n",
    "    embeddings_index[word] = word2vecDict.word_vec(word)\n",
    "print('Loaded %s word vectors from pretrained word2vec embeddings.' % len(embeddings_index))\n",
    "gc.collect()\n",
    "\n",
    "all_embs = np.stack(list(embeddings_index.values()))\n",
    "emb_mean,emb_std = all_embs.mean(), all_embs.std()\n",
    "\n",
    "\n",
    "\n",
    "nb_words = len(tokenizer.word_index)\n",
    "\n",
    "google300 = np.random.normal(emb_mean, emb_std, (nb_words, embed_size))\n",
    "gc.collect()\n",
    "\n",
    "\n",
    "embeddedCount = 0\n",
    "for word, i in tokenizer.word_index.items():\n",
    "    i-=1\n",
    "    \n",
    "    embedding_vector = embeddings_index.get(word)\n",
    "    \n",
    "    if embedding_vector is not None: \n",
    "        google300[i] = embedding_vector\n",
    "        embeddedCount+=1\n",
    "print('total embedded:',embeddedCount,'common words')\n",
    "\n",
    "del(embeddings_index)\n",
    "gc.collect()"
   ]
  },
  {
   "cell_type": "code",
   "execution_count": 27,
   "metadata": {},
   "outputs": [
    {
     "data": {
      "text/plain": [
       "array([[ 0.08007812,  0.10498047,  0.04980469, ...,  0.00366211,\n",
       "         0.04760742, -0.06884766],\n",
       "       [-0.1151491 ,  0.11157137,  0.25658163, ...,  0.18488426,\n",
       "        -0.13484488,  0.0725175 ],\n",
       "       [ 0.26559048, -0.07973897,  0.04335168, ...,  0.2941775 ,\n",
       "        -0.1000641 ,  0.23981965],\n",
       "       ...,\n",
       "       [-0.24030975, -0.20096584, -0.10210556, ..., -0.04216994,\n",
       "         0.21718019, -0.05437023],\n",
       "       [ 0.25585938,  0.13085938,  0.13574219, ...,  0.15136719,\n",
       "         0.13085938, -0.36523438],\n",
       "       [ 0.21424275,  0.00261933, -0.18658625, ...,  0.03554782,\n",
       "         0.10970153, -0.00894466]])"
      ]
     },
     "execution_count": 27,
     "metadata": {},
     "output_type": "execute_result"
    }
   ],
   "source": [
    "google300"
   ]
  },
  {
   "cell_type": "markdown",
   "metadata": {},
   "source": [
    "# 3. FastText"
   ]
  },
  {
   "cell_type": "code",
   "execution_count": 28,
   "metadata": {},
   "outputs": [],
   "source": [
    "EMBEDDING_FILE='wiki-news-300d-1M.vec'\n",
    "embed_size = 300"
   ]
  },
  {
   "cell_type": "code",
   "execution_count": 31,
   "metadata": {},
   "outputs": [
    {
     "name": "stdout",
     "output_type": "stream",
     "text": [
      "Loaded 999995 word vectors.\n",
      "total embedded: 88231 common words\n"
     ]
    },
    {
     "data": {
      "text/plain": [
       "0"
      ]
     },
     "execution_count": 31,
     "metadata": {},
     "output_type": "execute_result"
    }
   ],
   "source": [
    "embeddings_index = dict()\n",
    "\n",
    "f = open(EMBEDDING_FILE)\n",
    "for line in f:\n",
    "    \n",
    "    values = line.split()\n",
    "    \n",
    "    word = values[0]\n",
    "    \n",
    "    coefs = np.asarray(values[1:], dtype='float32')\n",
    "    embeddings_index[word] = coefs #50 dimensions\n",
    "f.close()\n",
    "print('Loaded %s word vectors.' % len(embeddings_index))\n",
    "\n",
    "gc.collect()\n",
    "\n",
    "del embeddings_index['999994']\n",
    "all_embs = np.stack(list(embeddings_index.values()))\n",
    "emb_mean,emb_std = all_embs.mean(), all_embs.std()\n",
    "\n",
    "\n",
    "\n",
    "nb_words = len(tokenizer.word_index)\n",
    "\n",
    "wiki300 = np.random.normal(emb_mean, emb_std, (nb_words, embed_size))\n",
    "gc.collect()\n",
    "\n",
    "\n",
    "embeddedCount = 0\n",
    "for word, i in tokenizer.word_index.items():\n",
    "    i-=1\n",
    "    \n",
    "    embedding_vector = embeddings_index.get(word)\n",
    "    \n",
    "    if embedding_vector is not None: \n",
    "        wiki300[i] = embedding_vector\n",
    "        embeddedCount+=1\n",
    "print('total embedded:',embeddedCount,'common words')\n",
    "\n",
    "del(embeddings_index)\n",
    "gc.collect()"
   ]
  },
  {
   "cell_type": "code",
   "execution_count": 36,
   "metadata": {},
   "outputs": [
    {
     "name": "stdout",
     "output_type": "stream",
     "text": [
      "Dimensions of GloVe embedding: (210337, 25)\n",
      "Dimensions of Word2Vec embedding: (210337, 300)\n",
      "Dimensions of FastText embedding: (210337, 300)\n"
     ]
    }
   ],
   "source": [
    "print(\"Dimensions of GloVe embedding:\", glove25.shape)\n",
    "print(\"Dimensions of Word2Vec embedding:\", google300.shape)\n",
    "print(\"Dimensions of FastText embedding:\", wiki300.shape)"
   ]
  },
  {
   "cell_type": "markdown",
   "metadata": {},
   "source": [
    "# Training Model"
   ]
  },
  {
   "cell_type": "code",
   "execution_count": 37,
   "metadata": {},
   "outputs": [],
   "source": [
    "inp = Input(shape=(maxlen, ))"
   ]
  },
  {
   "cell_type": "markdown",
   "metadata": {},
   "source": [
    "## GloVe"
   ]
  },
  {
   "cell_type": "code",
   "execution_count": 41,
   "metadata": {},
   "outputs": [],
   "source": [
    "x = Embedding(len(tokenizer.word_index), glove25.shape[1],weights=[glove25],trainable=False)(inp)"
   ]
  },
  {
   "cell_type": "code",
   "execution_count": 39,
   "metadata": {},
   "outputs": [
    {
     "name": "stdout",
     "output_type": "stream",
     "text": [
      "WARNING:tensorflow:From /Users/weixuanwu/anaconda3/lib/python3.7/site-packages/keras/backend/tensorflow_backend.py:3445: calling dropout (from tensorflow.python.ops.nn_ops) with keep_prob is deprecated and will be removed in a future version.\n",
      "Instructions for updating:\n",
      "Please use `rate` instead of `keep_prob`. Rate should be set to `rate = 1 - keep_prob`.\n",
      "_________________________________________________________________\n",
      "Layer (type)                 Output Shape              Param #   \n",
      "=================================================================\n",
      "input_1 (InputLayer)         (None, 200)               0         \n",
      "_________________________________________________________________\n",
      "embedding_1 (Embedding)      (None, 200, 25)           5258425   \n",
      "_________________________________________________________________\n",
      "bidirectional_1 (Bidirection (None, 200, 120)          41280     \n",
      "_________________________________________________________________\n",
      "global_max_pooling1d_1 (Glob (None, 120)               0         \n",
      "_________________________________________________________________\n",
      "dropout_1 (Dropout)          (None, 120)               0         \n",
      "_________________________________________________________________\n",
      "dense_1 (Dense)              (None, 50)                6050      \n",
      "_________________________________________________________________\n",
      "dropout_2 (Dropout)          (None, 50)                0         \n",
      "_________________________________________________________________\n",
      "dense_2 (Dense)              (None, 6)                 306       \n",
      "=================================================================\n",
      "Total params: 5,306,061\n",
      "Trainable params: 47,636\n",
      "Non-trainable params: 5,258,425\n",
      "_________________________________________________________________\n"
     ]
    }
   ],
   "source": [
    "x = Bidirectional(LSTM(60, return_sequences=True,name='lstm_layer',dropout=0.1,recurrent_dropout=0.1))(x)\n",
    "x = GlobalMaxPool1D()(x)\n",
    "x = Dropout(0.1)(x)\n",
    "x = Dense(50, activation=\"relu\")(x)\n",
    "x = Dropout(0.1)(x)\n",
    "x = Dense(6, activation=\"sigmoid\")(x)\n",
    "model = Model(inputs=inp, outputs=x)\n",
    "model.compile(loss='binary_crossentropy',\n",
    "                  optimizer='adam',\n",
    "                  metrics=['accuracy'])\n",
    "model.summary()"
   ]
  },
  {
   "cell_type": "code",
   "execution_count": 40,
   "metadata": {},
   "outputs": [
    {
     "name": "stdout",
     "output_type": "stream",
     "text": [
      "WARNING:tensorflow:From /Users/weixuanwu/anaconda3/lib/python3.7/site-packages/tensorflow/python/ops/math_ops.py:3066: to_int32 (from tensorflow.python.ops.math_ops) is deprecated and will be removed in a future version.\n",
      "Instructions for updating:\n",
      "Use tf.cast instead.\n",
      "WARNING:tensorflow:From /Users/weixuanwu/anaconda3/lib/python3.7/site-packages/tensorflow/python/ops/math_grad.py:102: div (from tensorflow.python.ops.math_ops) is deprecated and will be removed in a future version.\n",
      "Instructions for updating:\n",
      "Deprecated in favor of operator or tf.math.divide.\n",
      "Train on 143613 samples, validate on 15958 samples\n",
      "Epoch 1/4\n",
      "143613/143613 [==============================] - 835s 6ms/step - loss: 0.1167 - acc: 0.9653 - val_loss: 0.0913 - val_acc: 0.9709\n",
      "Epoch 2/4\n",
      "143613/143613 [==============================] - 818s 6ms/step - loss: 0.0886 - acc: 0.9725 - val_loss: 0.0805 - val_acc: 0.9742\n",
      "Epoch 3/4\n",
      "143613/143613 [==============================] - 832s 6ms/step - loss: 0.0798 - acc: 0.9748 - val_loss: 0.0745 - val_acc: 0.9755\n",
      "Epoch 4/4\n",
      "143613/143613 [==============================] - 843s 6ms/step - loss: 0.0754 - acc: 0.9760 - val_loss: 0.0707 - val_acc: 0.9764\n"
     ]
    }
   ],
   "source": [
    "batch_size = 32\n",
    "epochs = 4\n",
    "hist = model.fit(X_t,y, batch_size=batch_size, epochs=epochs, validation_split=0.1)"
   ]
  },
  {
   "cell_type": "markdown",
   "metadata": {},
   "source": [
    "## Word2Vec"
   ]
  },
  {
   "cell_type": "code",
   "execution_count": 42,
   "metadata": {},
   "outputs": [],
   "source": [
    "x = Embedding(len(tokenizer.word_index), google300.shape[1],weights=[google300],trainable=False)(inp)"
   ]
  },
  {
   "cell_type": "code",
   "execution_count": 43,
   "metadata": {},
   "outputs": [
    {
     "name": "stdout",
     "output_type": "stream",
     "text": [
      "_________________________________________________________________\n",
      "Layer (type)                 Output Shape              Param #   \n",
      "=================================================================\n",
      "input_1 (InputLayer)         (None, 200)               0         \n",
      "_________________________________________________________________\n",
      "embedding_3 (Embedding)      (None, 200, 300)          63101100  \n",
      "_________________________________________________________________\n",
      "bidirectional_2 (Bidirection (None, 200, 120)          173280    \n",
      "_________________________________________________________________\n",
      "global_max_pooling1d_2 (Glob (None, 120)               0         \n",
      "_________________________________________________________________\n",
      "dropout_3 (Dropout)          (None, 120)               0         \n",
      "_________________________________________________________________\n",
      "dense_3 (Dense)              (None, 50)                6050      \n",
      "_________________________________________________________________\n",
      "dropout_4 (Dropout)          (None, 50)                0         \n",
      "_________________________________________________________________\n",
      "dense_4 (Dense)              (None, 6)                 306       \n",
      "=================================================================\n",
      "Total params: 63,280,736\n",
      "Trainable params: 179,636\n",
      "Non-trainable params: 63,101,100\n",
      "_________________________________________________________________\n"
     ]
    }
   ],
   "source": [
    "x = Bidirectional(LSTM(60, return_sequences=True,name='lstm_layer',dropout=0.1,recurrent_dropout=0.1))(x)\n",
    "x = GlobalMaxPool1D()(x)\n",
    "x = Dropout(0.1)(x)\n",
    "x = Dense(50, activation=\"relu\")(x)\n",
    "x = Dropout(0.1)(x)\n",
    "x = Dense(6, activation=\"sigmoid\")(x)\n",
    "model = Model(inputs=inp, outputs=x)\n",
    "model.compile(loss='binary_crossentropy',\n",
    "                  optimizer='adam',\n",
    "                  metrics=['accuracy'])\n",
    "model.summary()"
   ]
  },
  {
   "cell_type": "code",
   "execution_count": 44,
   "metadata": {},
   "outputs": [
    {
     "name": "stdout",
     "output_type": "stream",
     "text": [
      "Train on 143613 samples, validate on 15958 samples\n",
      "Epoch 1/4\n",
      "143613/143613 [==============================] - 1441s 10ms/step - loss: 0.0827 - acc: 0.9748 - val_loss: 0.0606 - val_acc: 0.9794\n",
      "Epoch 2/4\n",
      "143613/143613 [==============================] - 1515s 11ms/step - loss: 0.0574 - acc: 0.9803 - val_loss: 0.0542 - val_acc: 0.9812\n",
      "Epoch 3/4\n",
      "143613/143613 [==============================] - 2391s 17ms/step - loss: 0.0517 - acc: 0.9819 - val_loss: 0.0520 - val_acc: 0.9812\n",
      "Epoch 4/4\n",
      "143613/143613 [==============================] - 1954s 14ms/step - loss: 0.0481 - acc: 0.9827 - val_loss: 0.0512 - val_acc: 0.9816\n"
     ]
    }
   ],
   "source": [
    "batch_size = 32\n",
    "epochs = 4\n",
    "hist = model.fit(X_t,y, batch_size=batch_size, epochs=epochs, validation_split=0.1)"
   ]
  },
  {
   "cell_type": "markdown",
   "metadata": {},
   "source": [
    "## FastText"
   ]
  },
  {
   "cell_type": "code",
   "execution_count": 45,
   "metadata": {},
   "outputs": [],
   "source": [
    "x = Embedding(len(tokenizer.word_index), wiki300.shape[1],weights=[wiki300],trainable=False)(inp)"
   ]
  },
  {
   "cell_type": "code",
   "execution_count": 46,
   "metadata": {},
   "outputs": [
    {
     "name": "stdout",
     "output_type": "stream",
     "text": [
      "_________________________________________________________________\n",
      "Layer (type)                 Output Shape              Param #   \n",
      "=================================================================\n",
      "input_1 (InputLayer)         (None, 200)               0         \n",
      "_________________________________________________________________\n",
      "embedding_4 (Embedding)      (None, 200, 300)          63101100  \n",
      "_________________________________________________________________\n",
      "bidirectional_3 (Bidirection (None, 200, 120)          173280    \n",
      "_________________________________________________________________\n",
      "global_max_pooling1d_3 (Glob (None, 120)               0         \n",
      "_________________________________________________________________\n",
      "dropout_5 (Dropout)          (None, 120)               0         \n",
      "_________________________________________________________________\n",
      "dense_5 (Dense)              (None, 50)                6050      \n",
      "_________________________________________________________________\n",
      "dropout_6 (Dropout)          (None, 50)                0         \n",
      "_________________________________________________________________\n",
      "dense_6 (Dense)              (None, 6)                 306       \n",
      "=================================================================\n",
      "Total params: 63,280,736\n",
      "Trainable params: 179,636\n",
      "Non-trainable params: 63,101,100\n",
      "_________________________________________________________________\n"
     ]
    }
   ],
   "source": [
    "x = Bidirectional(LSTM(60, return_sequences=True,name='lstm_layer',dropout=0.1,recurrent_dropout=0.1))(x)\n",
    "x = GlobalMaxPool1D()(x)\n",
    "x = Dropout(0.1)(x)\n",
    "x = Dense(50, activation=\"relu\")(x)\n",
    "x = Dropout(0.1)(x)\n",
    "x = Dense(6, activation=\"sigmoid\")(x)\n",
    "model = Model(inputs=inp, outputs=x)\n",
    "model.compile(loss='binary_crossentropy',\n",
    "                  optimizer='adam',\n",
    "                  metrics=['accuracy'])\n",
    "model.summary()"
   ]
  },
  {
   "cell_type": "code",
   "execution_count": 47,
   "metadata": {},
   "outputs": [
    {
     "name": "stdout",
     "output_type": "stream",
     "text": [
      "Train on 127656 samples, validate on 31915 samples\n",
      "Epoch 1/4\n",
      "127656/127656 [==============================] - 1334s 10ms/step - loss: 0.0886 - acc: 0.9734 - val_loss: 0.0649 - val_acc: 0.9789\n",
      "Epoch 2/4\n",
      "127656/127656 [==============================] - 1330s 10ms/step - loss: 0.0629 - acc: 0.9793 - val_loss: 0.0573 - val_acc: 0.9804\n",
      "Epoch 3/4\n",
      "127656/127656 [==============================] - 1341s 11ms/step - loss: 0.0565 - acc: 0.9806 - val_loss: 0.0557 - val_acc: 0.9809\n",
      "Epoch 4/4\n",
      "127656/127656 [==============================] - 1358s 11ms/step - loss: 0.0527 - acc: 0.9815 - val_loss: 0.0534 - val_acc: 0.9815\n"
     ]
    }
   ],
   "source": [
    "batch_size = 32\n",
    "epochs = 4\n",
    "hist = model.fit(X_t,y, batch_size=batch_size, epochs=epochs, validation_split=0.2)"
   ]
  },
  {
   "cell_type": "markdown",
   "metadata": {},
   "source": [
    "# Performance Comparison"
   ]
  },
  {
   "cell_type": "code",
   "execution_count": 52,
   "metadata": {},
   "outputs": [],
   "source": [
    "all_losses = {\n",
    "'word2vec_loss': [0.0827,\n",
    "  0.0574,\n",
    "  0.0517,\n",
    "  0.0481],\n",
    " 'word2vec_val_loss': [0.0606,\n",
    "  0.0542,\n",
    "  0.0520,\n",
    "  0.0512],\n",
    "'glove_loss': [0.1167,\n",
    "  0.0886,\n",
    "  0.0798,\n",
    "  0.0754],\n",
    " 'glove_val_loss': [0.0913,\n",
    "  0.0805,\n",
    "  0.0745,\n",
    "  0.0707],\n",
    " 'fasttext_loss': [0.0886,\n",
    "  0.0629,\n",
    "  0.0565,\n",
    "  0.0527],\n",
    " 'fasttext_val_loss': [0.0649,\n",
    "  0.0573,\n",
    "  0.0557,\n",
    "  0.0534],\n",
    " 'baseline_loss': [0.1015,\n",
    "  0.0586,\n",
    "  0.0521,\n",
    "  0.0489],\n",
    " 'baseline_val_loss': [0.0644,\n",
    "  0.0551,\n",
    "  0.0511,\n",
    "  0.0509]\n",
    "}"
   ]
  },
  {
   "cell_type": "code",
   "execution_count": 53,
   "metadata": {},
   "outputs": [
    {
     "data": {
      "image/png": "[encoded data removed]",
      "text/plain": [
       "<Figure size 432x288 with 1 Axes>"
      ]
     },
     "metadata": {
      "needs_background": "light"
     },
     "output_type": "display_data"
    }
   ],
   "source": [
    "epochRange = np.arange(1,5,1)\n",
    "plt.plot(epochRange,all_losses['word2vec_loss'])\n",
    "plt.plot(epochRange,all_losses['glove_loss'])\n",
    "plt.plot(epochRange,all_losses['fasttext_loss'])\n",
    "plt.plot(epochRange,all_losses['baseline_loss'])\n",
    "plt.title('Training loss for different embeddings')\n",
    "plt.ylabel('loss')\n",
    "plt.xlabel('epoch')\n",
    "plt.legend(['Word2Vec', 'GLOVE','FastText','Baseline'], loc='upper left')\n",
    "plt.show()"
   ]
  },
  {
   "cell_type": "code",
   "execution_count": 54,
   "metadata": {},
   "outputs": [
    {
     "data": {
      "image/png": "[encoded data removed]",
      "text/plain": [
       "<Figure size 432x288 with 1 Axes>"
      ]
     },
     "metadata": {
      "needs_background": "light"
     },
     "output_type": "display_data"
    }
   ],
   "source": [
    "epochRange = np.arange(1,5,1)\n",
    "plt.plot(epochRange,all_losses['baseline_loss'])\n",
    "plt.plot(epochRange,all_losses['baseline_val_loss'])\n",
    "plt.title('Training Vs Validation loss for baseline model')\n",
    "plt.ylabel('loss')\n",
    "plt.xlabel('epoch')\n",
    "plt.legend(['Training', 'Validation'], loc='upper left')\n",
    "plt.show()"
   ]
  },
  {
   "cell_type": "code",
   "execution_count": 55,
   "metadata": {},
   "outputs": [
    {
     "data": {
      "image/png": "[encoded data removed]",
      "text/plain": [
       "<Figure size 1440x1440 with 4 Axes>"
      ]
     },
     "metadata": {
      "needs_background": "light"
     },
     "output_type": "display_data"
    }
   ],
   "source": [
    "f, ((ax1, ax2), (ax3, ax4)) = plt.subplots(2, 2, sharex='col', sharey='row',figsize=(20, 20))\n",
    "\n",
    "plt.title('Training Vs Validation loss for all embeddings')\n",
    "ax1.plot(epochRange,all_losses['baseline_loss'])\n",
    "ax1.plot(epochRange,all_losses['baseline_val_loss'])\n",
    "ax1.set_title('Baseline')\n",
    "ax1.set_ylim(0.03, 0.12)\n",
    "\n",
    "ax2.plot(epochRange,all_losses['word2vec_loss'])\n",
    "ax2.plot(epochRange,all_losses['word2vec_val_loss'])\n",
    "ax2.set_title('Word2Vec')\n",
    "ax2.set_ylim(0.03, 0.12)\n",
    "\n",
    "ax3.plot(epochRange,all_losses['glove_loss'])\n",
    "ax3.plot(epochRange,all_losses['glove_val_loss'])\n",
    "ax3.set_title('GLOVE')\n",
    "ax3.set_ylim(0.03, 0.12)\n",
    "\n",
    "\n",
    "ax4.plot(epochRange,all_losses['fasttext_loss'])\n",
    "ax4.plot(epochRange,all_losses['fasttext_val_loss'])\n",
    "ax4.set_title('FastText')\n",
    "ax4.set_ylim(0.03, 0.12)\n",
    "\n",
    "plt.show()"
   ]
  },
  {
   "cell_type": "code",
   "execution_count": null,
   "metadata": {},
   "outputs": [],
   "source": []
  }
 ],
 "metadata": {
  "kernelspec": {
   "display_name": "Python 3",
   "language": "python",
   "name": "python3"
  },
  "language_info": {
   "codemirror_mode": {
    "name": "ipython",
    "version": 3
   },
   "file_extension": ".py",
   "mimetype": "text/x-python",
   "name": "python",
   "nbconvert_exporter": "python",
   "pygments_lexer": "ipython3",
   "version": "3.7.1"
  }
 },
 "nbformat": 4,
 "nbformat_minor": 2
}
